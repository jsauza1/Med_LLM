{
 "cells": [
  {
   "cell_type": "code",
   "execution_count": 11,
   "metadata": {},
   "outputs": [],
   "source": [
    "# pip install transformers\n",
    "# pip install torch\n",
    "# pip install python-dotenv \n",
    "import os\n",
    "import dotenv\n",
    "import joblib\n",
    "from huggingface_hub import hf_hub_download\n",
    "\n",
    "dotenv.load_dotenv()\n",
    "HUGGING_FACE_API_KEY = os.getenv(\"HUGGING_FACE_API_KEY\")"
   ]
  },
  {
   "cell_type": "code",
   "execution_count": 21,
   "metadata": {},
   "outputs": [
    {
     "name": "stdout",
     "output_type": "stream",
     "text": [
      "/Users/jsauza/.cache/huggingface/hub/models--medicalai--ClinicalBERT/snapshots/44dfd560680cb779c0c7d473c96d098d778a2654/config.json\n",
      "/Users/jsauza/.cache/huggingface/hub/models--medicalai--ClinicalBERT/snapshots/44dfd560680cb779c0c7d473c96d098d778a2654/pytorch_model.bin\n",
      "/Users/jsauza/.cache/huggingface/hub/models--medicalai--ClinicalBERT/snapshots/44dfd560680cb779c0c7d473c96d098d778a2654/special_tokens_map.json\n",
      "/Users/jsauza/.cache/huggingface/hub/models--medicalai--ClinicalBERT/snapshots/44dfd560680cb779c0c7d473c96d098d778a2654/tokenizer_config.json\n"
     ]
    }
   ],
   "source": [
    "model_id = \"medicalai/ClinicalBERT\"\n",
    "filenames = [\"config.json\", \"pytorch_model.bin\", \"special_tokens_map.json\", \"tokenizer_config.json\"]\n",
    "# \"added_tokens.json\",  \"generation_config.json\",\"spiece.model\"\n",
    "\n",
    "for filename in filenames:\n",
    "        downloaded_model_path = hf_hub_download(\n",
    "                repo_id=model_id,\n",
    "                filename=filename,\n",
    "                token=HUGGING_FACE_API_KEY\n",
    "                )\n",
    "print(downloaded_model_path)"
   ]
  },
  {
   "cell_type": "code",
   "execution_count": 29,
   "metadata": {},
   "outputs": [
    {
     "ename": "ImportError",
     "evalue": "cannot import name 'check_connectivity' from 'python_utils' (/Users/jsauza/Documents/GitHub/Med_LLM/.venv/lib/python3.11/site-packages/python_utils/__init__.py)",
     "output_type": "error",
     "traceback": [
      "\u001b[0;31m---------------------------------------------------------------------------\u001b[0m",
      "\u001b[0;31mImportError\u001b[0m                               Traceback (most recent call last)",
      "Cell \u001b[0;32mIn[29], line 2\u001b[0m\n\u001b[1;32m      1\u001b[0m \u001b[39mimport\u001b[39;00m \u001b[39mutils\u001b[39;00m\n\u001b[0;32m----> 2\u001b[0m \u001b[39mfrom\u001b[39;00m \u001b[39mpython_utils\u001b[39;00m \u001b[39mimport\u001b[39;00m check_connectivity, toggle_wifi\n\u001b[1;32m      3\u001b[0m \u001b[39mimport\u001b[39;00m \u001b[39mtime\u001b[39;00m\n\u001b[1;32m      5\u001b[0m \u001b[39mprint\u001b[39m(check_connectivity())\n",
      "\u001b[0;31mImportError\u001b[0m: cannot import name 'check_connectivity' from 'python_utils' (/Users/jsauza/Documents/GitHub/Med_LLM/.venv/lib/python3.11/site-packages/python_utils/__init__.py)"
     ]
    }
   ],
   "source": [
    "import utils\n",
    "from python_utils import check_connectivity, toggle_wifi\n",
    "import time\n",
    "\n",
    "print(check_connectivity())\n",
    "toggle_wifi(\"off\")\n",
    "time.sleep(0.5)\n",
    "print(check_connectivity())"
   ]
  },
  {
   "cell_type": "code",
   "execution_count": 28,
   "metadata": {},
   "outputs": [
    {
     "ename": "NameError",
     "evalue": "name 'utils' is not defined",
     "output_type": "error",
     "traceback": [
      "\u001b[0;31m---------------------------------------------------------------------------\u001b[0m",
      "\u001b[0;31mNameError\u001b[0m                                 Traceback (most recent call last)",
      "Cell \u001b[0;32mIn[28], line 1\u001b[0m\n\u001b[0;32m----> 1\u001b[0m utils\u001b[39m.\u001b[39mcheck_connectivity()\n",
      "\u001b[0;31mNameError\u001b[0m: name 'utils' is not defined"
     ]
    }
   ],
   "source": [
    "utils.check_connectivity()"
   ]
  },
  {
   "cell_type": "code",
   "execution_count": null,
   "metadata": {},
   "outputs": [],
   "source": []
  }
 ],
 "metadata": {
  "kernelspec": {
   "display_name": ".venv",
   "language": "python",
   "name": "python3"
  },
  "language_info": {
   "codemirror_mode": {
    "name": "ipython",
    "version": 3
   },
   "file_extension": ".py",
   "mimetype": "text/x-python",
   "name": "python",
   "nbconvert_exporter": "python",
   "pygments_lexer": "ipython3",
   "version": "3.11.5"
  },
  "orig_nbformat": 4
 },
 "nbformat": 4,
 "nbformat_minor": 2
}
